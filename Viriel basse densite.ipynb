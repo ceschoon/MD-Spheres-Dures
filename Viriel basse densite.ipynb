{
 "cells": [
  {
   "cell_type": "markdown",
   "metadata": {},
   "source": [
    "# Pression à basse densité: Deuxième et troisième coefficients du Viriel"
   ]
  },
  {
   "cell_type": "code",
   "execution_count": null,
   "metadata": {},
   "outputs": [],
   "source": [
    "import numpy,pandas,time,threading,os\n",
    "from matplotlib import pyplot\n",
    "%matplotlib inline\n",
    "from matplotlib import rcParams\n",
    "rcParams['font.family'] = 'serif'\n",
    "rcParams['font.size'] = 16"
   ]
  },
  {
   "cell_type": "markdown",
   "metadata": {},
   "source": [
    "La pression doit s'exprimer en fonction de la densité comme suit\n",
    "\n",
    "$$ \\frac {P}{nT} = 1 + B_2 n + B_3 n^2 + \\mathcal{O}(n^3) $$\n",
    "\n",
    "Les deuxième et troisième coefficients du viriel sont donnés par\n",
    "\n",
    "$$ B_2 = \\frac{16\\pi R^3}{3} = \\frac {16\\pi}{3} = 16.75516 $$\n",
    "$$ B_3 = \\frac{160\\pi^2 R^6}{9} = \\frac{160\\pi}{9} = 175.460 $$\n",
    "\n",
    "Les termes correspondant valent\n",
    "\n",
    "$$ B_2 n = 16.75516 \\times 0.0002 = 3.351032 \\times 10^{-3} $$\n",
    "$$ B_3 n^2 = 175.460 \\times 0.0002^2 = 7.018 \\times 10^{-6} $$\n",
    "\n",
    "Nous négligerons la contribution des coefficients d'ordre supérieur. \n",
    "\n",
    "L'équation d'état que nous devrions trouver numériquement pour la pression est donc \n",
    "\n",
    "$$ \\frac {P}{nT} = 1.00335805 $$"
   ]
  },
  {
   "cell_type": "markdown",
   "metadata": {},
   "source": [
    "## De longues simulations ou plusieurs petites ?"
   ]
  },
  {
   "cell_type": "markdown",
   "metadata": {},
   "source": [
    "On teste ici quel est la stratégie la plus avantageuse pour minimiser l'erreur statistique parmi les suivantes: réaliser quelques longues simulations ou beaucoup de simulations plus courtes. Intuitivement, cela ne devrait rien changer car la pression pour une simulation est déjà calculée avec une moyenne (somme des $r_{ij}\\cdot v_{ij}$ divisée par le temps de simulation)."
   ]
  },
  {
   "cell_type": "code",
   "execution_count": null,
   "metadata": {},
   "outputs": [],
   "source": [
    "def petites_sim():\n",
    "    \n",
    "    NSim = 100 # nombre de simulations\n",
    "\n",
    "    start = time.time()\n",
    "    for i in range(NSim):\n",
    "        print (\"./simulationO3 3 3 3 0.0002 1 200 0 _Short    simulation n°\", i)\n",
    "        os.system(\"./simulationO3 3 3 3 0.0002 1 200 0 _Short\")\n",
    "        os.system(\"mkdir data_viriel\")\n",
    "        os.system(\"mv data/collisionData_Short.csv data_viriel/collisionData_LD_short{:d}.csv\".format(i))\n",
    "        os.system(\"mv data/infoSimulation_Short.csv data_viriel/infoSimulation_LD_short{:d}.csv\".format(i))\n",
    "        os.system(\"mv data/particle0Data_Short.csv data_viriel/particle0Data_LD_short{:d}.csv\".format(i))\n",
    "        os.system(\"mv data/excursionData_Short.csv data_viriel/excursionData_LD_short{:d}.csv\".format(i))\n",
    "    print (\"Execution time: {:.3f} seconds\".format(time.time()-start))"
   ]
  },
  {
   "cell_type": "code",
   "execution_count": null,
   "metadata": {},
   "outputs": [],
   "source": [
    "def grandes_sim():\n",
    "    \n",
    "    NSim = 10 # nombre de simulations\n",
    "\n",
    "    start = time.time()\n",
    "    for i in range(NSim):\n",
    "        print (\"./simulationO3 3 3 3 0.0002 1 2000 0 _Long    simulation n°\", i)\n",
    "        os.system(\"./simulationO3 3 3 3 0.0002 1 2000 0 _Long\")\n",
    "        os.system(\"mkdir data_viriel\")\n",
    "        os.system(\"mv data/collisionData_Long.csv data_viriel/collisionData_LD_long{:d}.csv\".format(i))\n",
    "        os.system(\"mv data/infoSimulation_Long.csv data_viriel/infoSimulation_LD_long{:d}.csv\".format(i))\n",
    "        os.system(\"mv data/particle0Data_Long.csv data_viriel/particle0Data_LD_long{:d}.csv\".format(i))\n",
    "        os.system(\"mv data/excursionData_Long.csv data_viriel/excursionData_LD_long{:d}.csv\".format(i))\n",
    "    print (\"Execution time: {:.3f} seconds\".format(time.time()-start))"
   ]
  },
  {
   "cell_type": "code",
   "execution_count": null,
   "metadata": {},
   "outputs": [],
   "source": [
    "threading.Thread(target=petites_sim).start()\n",
    "threading.Thread(target=grandes_sim).start()"
   ]
  },
  {
   "cell_type": "markdown",
   "metadata": {},
   "source": [
    "### Petites simulations"
   ]
  },
  {
   "cell_type": "code",
   "execution_count": null,
   "metadata": {},
   "outputs": [],
   "source": [
    "N = 108\n",
    "T = 1\n",
    "t_sim = 200\n",
    "NSim = 100\n",
    "t_Sim = 200\n",
    "\n",
    "p_sim = numpy.zeros(NSim)\n",
    "\n",
    "for i in range(NSim):\n",
    "    \n",
    "    collisionData = pandas.read_csv(\"data_viriel/collisionData_LD_short{:d}.csv\".format(i))\n",
    "    [t,vDotr] = numpy.transpose(collisionData.as_matrix(['t','vDotr']))\n",
    "\n",
    "    p_sim[i] = 1 + 1/(N*3*T*t_Sim) * numpy.sum(vDotr)\n",
    "\n",
    "print (p_sim)\n",
    "\n",
    "pyplot.figure(figsize=(8,5));\n",
    "pyplot.plot(p_sim, '.');\n",
    "pyplot.title(\"Petites Simulations\");\n",
    "pyplot.xlabel('simulation');\n",
    "pyplot.ylabel('p');\n",
    "pyplot.grid();\n",
    "pyplot.show()\n",
    "\n",
    "p_moy = numpy.sum(p_sim)/len(p_sim)\n",
    "p_err = numpy.std(p_sim)/numpy.sqrt(len(p_sim))\n",
    "print (p_moy)\n",
    "print (p_err)"
   ]
  },
  {
   "cell_type": "markdown",
   "metadata": {},
   "source": [
    "### Grandes simulations"
   ]
  },
  {
   "cell_type": "code",
   "execution_count": null,
   "metadata": {},
   "outputs": [],
   "source": [
    "N = 108\n",
    "T = 1\n",
    "NSim = 10\n",
    "t_Sim = 2000\n",
    "\n",
    "p_sim = numpy.zeros(NSim)\n",
    "\n",
    "for i in range(NSim):\n",
    "    \n",
    "    collisionData = pandas.read_csv(\"data_viriel/collisionData_LD_long{:d}.csv\".format(i))\n",
    "    [t,vDotr] = numpy.transpose(collisionData.as_matrix(['t','vDotr']))\n",
    "\n",
    "    p_sim[i] = 1 + 1/(N*3*T*t_Sim) * numpy.sum(vDotr)\n",
    "\n",
    "print (p_sim)\n",
    "\n",
    "pyplot.figure(figsize=(8,5));\n",
    "pyplot.plot(p_sim, '.');\n",
    "pyplot.title(\"Grandes Simulations\");\n",
    "pyplot.xlabel('simulation');\n",
    "pyplot.ylabel('p');\n",
    "pyplot.grid();\n",
    "pyplot.show()\n",
    "\n",
    "p_moy = numpy.sum(p_sim)/len(p_sim)\n",
    "p_err = numpy.std(p_sim)/numpy.sqrt(len(p_sim))\n",
    "print (p_moy)\n",
    "print (p_err)"
   ]
  },
  {
   "cell_type": "markdown",
   "metadata": {},
   "source": [
    "On observe effectivement que concernant l'erreur statistique, il n'y a aucun avantage à utiliser une méthode plutôt que l'autre. "
   ]
  },
  {
   "cell_type": "markdown",
   "metadata": {},
   "source": [
    "## Réalisation d'un programme bouclant un grand nombre de simulations"
   ]
  },
  {
   "cell_type": "markdown",
   "metadata": {},
   "source": [
    "Programme écrit dans le fichier \"simulate.py\""
   ]
  },
  {
   "cell_type": "markdown",
   "metadata": {},
   "source": [
    "Les pressions calculées par le programme sont enregistrées dans le fichier data_viriel/pressions.dat, qui est ensuite renommé en ajoutant un suffixe indiquant quelques paramètres utilisés.\n",
    "\n",
    "Ci-dessous, les résultats pour un temps de simulation $t_{sim} = 1000$."
   ]
  },
  {
   "cell_type": "code",
   "execution_count": null,
   "metadata": {},
   "outputs": [],
   "source": [
    "f = open(\"data_viriel/pressures-tSim=1000.dat\",\"r\")\n",
    "\n",
    "p = numpy.array([])\n",
    "\n",
    "line = f.readline()\n",
    "while line!=\"\":\n",
    "    p = numpy.append(p,float(line[:-1]))\n",
    "    line = f.readline()\n",
    "    \n",
    "pyplot.figure(figsize=(8,5));\n",
    "pyplot.plot(p, '.');\n",
    "pyplot.title(\"Simulations pour $t_{sim} = 1000$\");\n",
    "pyplot.xlabel('simulation');\n",
    "pyplot.ylabel('p');\n",
    "pyplot.grid();\n",
    "pyplot.show()\n",
    "    \n",
    "\n",
    "print (\"Nombre de simulations =\", len(p))\n",
    "p_moy = numpy.sum(p)/len(p)\n",
    "p_err = numpy.std(p)/numpy.sqrt(len(p))\n",
    "print (\"p_moy = {:.7f}\".format(p_moy))\n",
    "print (\"p_err = {:.7f} ({:.1f}e-06)\".format(p_err,p_err*1e6))"
   ]
  },
  {
   "cell_type": "markdown",
   "metadata": {},
   "source": [
    "Avec autant de simulations, nous avons une erreur statistique assez petite pour pouvoir juger de la validité du résultat. Ce que nous remarquons, c'est que nous sommes loins de la valeur théorique $p = 1.003358$. \n",
    "\n",
    "Nous pouvons nous demander si la formule utilisée dans le script \"simulate.py\" pour calculer la pression est correcte.\n",
    "En effet, dans la formule utilisée, ci-dessous, nous divisons par trois fois le nombre de particules $N$.\n",
    "\n",
    "$$ p = 1+ \\frac{1}{3NT t_{sim}} \\sum_{t_{sim}} r_{ij}\\cdot v_{ij} $$\n",
    "\n",
    "Nous sommes en droit de nous demander si, comme dans la simulation la quantité de mouvement totale est conservée, nous ne devrions pas plutôt diviser par le nombre de degrés de libertés du système, dans ce cas-ci $3(N-1)$. C'est donc ce que nous essayons dans la cellule suivante."
   ]
  },
  {
   "cell_type": "code",
   "execution_count": null,
   "metadata": {},
   "outputs": [],
   "source": [
    "f = open(\"data_viriel/pressures-tSim=1000.dat\",\"r\")\n",
    "\n",
    "p = numpy.array([])\n",
    "\n",
    "line = f.readline()\n",
    "while line!=\"\":\n",
    "    p = numpy.append(p,float(line[:-1]))\n",
    "    line = f.readline()\n",
    "    \n",
    "p = 108/107*(p-1)+1 # corrige le calcul de la pression pour utiliser le nombre de degrés de liberté\n",
    "    \n",
    "pyplot.figure(figsize=(8,5));\n",
    "pyplot.plot(p, '.');\n",
    "pyplot.title(\"Simulations pour $t_{sim} = 1000$\");\n",
    "pyplot.xlabel('simulation');\n",
    "pyplot.ylabel('p');\n",
    "pyplot.grid();\n",
    "pyplot.show()\n",
    "    \n",
    "\n",
    "print (\"Nombre de simulations =\", len(p))\n",
    "p_moy = numpy.sum(p)/len(p)\n",
    "p_err = numpy.std(p)/numpy.sqrt(len(p))\n",
    "print (\"p_moy = {:.7f}\".format(p_moy))\n",
    "print (\"p_err = {:.7f} ({:.1f}e-06)\".format(p_err,p_err*1e6))"
   ]
  },
  {
   "cell_type": "markdown",
   "metadata": {},
   "source": [
    "On observe alors une amélioration du résultat, qui est déjà plus proche du résultat théorique. Cependant, ce n'est toujours pas la bonne valeur de $1.003358$. Une autre question que nous pouvons nous poser est si le temps de simulation est assez grand pour que le système atteigne l'équilibre. Nous essayons donc un temps de simulation plus grand et les résultats sont dans la cellule suivante."
   ]
  },
  {
   "cell_type": "code",
   "execution_count": null,
   "metadata": {
    "scrolled": false
   },
   "outputs": [],
   "source": [
    "f = open(\"data_viriel/pressures-tSim=10000.dat\",\"r\")\n",
    "\n",
    "p = numpy.array([])\n",
    "\n",
    "line = f.readline()\n",
    "while line!=\"\":\n",
    "    p = numpy.append(p,float(line[:-1]))\n",
    "    line = f.readline()\n",
    "    \n",
    "p = 108/107*(p-1)+1\n",
    "    \n",
    "pyplot.figure(figsize=(8,5));\n",
    "pyplot.plot(p, '.');\n",
    "pyplot.title(\"Simulations pour $t_{sim} = 10000$\");\n",
    "pyplot.xlabel('simulation');\n",
    "pyplot.ylabel('p');\n",
    "pyplot.grid();\n",
    "pyplot.show()\n",
    "    \n",
    "\n",
    "print (\"Nombre de simulations =\", len(p))\n",
    "p_moy = numpy.sum(p)/len(p)\n",
    "p_err = numpy.std(p)/numpy.sqrt(len(p))\n",
    "print (\"p_moy = {:.7f}\".format(p_moy))\n",
    "print (\"p_err = {:.7f} ({:.1f}e-06)\".format(p_err,p_err*1e6))"
   ]
  },
  {
   "cell_type": "markdown",
   "metadata": {},
   "source": [
    "On observe bien cette fois-ci quelque chose de compatible avec le résultat théorique de $1.003358$. Il semble donc que l'équilibre est atteint sur une échelle de temps d'environ $1000$ et que la formule pour la pression doit utiliser le nombre de degrés de libertés du système."
   ]
  },
  {
   "cell_type": "markdown",
   "metadata": {},
   "source": [
    "## Relaxation du système vers l'équilibre"
   ]
  },
  {
   "cell_type": "markdown",
   "metadata": {},
   "source": [
    "Nous allons ici tenter d'observer le système tendre vers l'équilibre au fur et à mesure que le temps progresse. Cela nous permettra de savoir à quel instant nous pouvons considérer que le système est à l'équilibre.\n",
    "\n",
    "Pour ce faire, nous avons modifié le script \"simulate.py\" pour enregistrer la pression dans plusieurs intervalle de temps $[t,t+\\Delta t[$. Nous simulerons sur un temps de $10000$ et calculerons la pression sur des intervalles de taille $100$. Le script modifié est \"simulate-Deltas.py\". Dans ce nouveau script, nous utilisons la bonne formule pour la pression qui utilise le nombre de degrés de libertés.\n",
    "\n",
    "Les résultats, enregistrés dans le fichier \"pressions-Deltas.dat\", sont analysés dans la cellule suivante."
   ]
  },
  {
   "cell_type": "code",
   "execution_count": null,
   "metadata": {},
   "outputs": [],
   "source": [
    "f = open(\"data_viriel/pressures-Deltas.dat\",\"r\")\n",
    "\n",
    "p = numpy.array([]) # liste des pressions sur les intervalles Delta_t pour toutes les simulations (matrice)\n",
    "\n",
    "line = f.readline()\n",
    "while line!=\"\":\n",
    "    \n",
    "    idxPrevComma = -1\n",
    "    p_sim = numpy.array([]) # pressions sur les intervalles Delta_t pour une simulation (vecteur)\n",
    "    for i in range(len(line)-1):\n",
    "        if line[i]==\",\":\n",
    "            p_sim = numpy.append(p_sim,float(line[idxPrevComma+1:i]))\n",
    "            idxPrevComma = i\n",
    "    p_sim = numpy.append(p_sim,float(line[idxPrevComma+1:-1]))\n",
    "    \n",
    "    if len(p)==0: \n",
    "        p = [p_sim]\n",
    "        #p = numpy.append(p,[p_sim])\n",
    "    else:\n",
    "        p = numpy.append(p,[p_sim], 0)\n",
    "    line = f.readline()\n",
    "    \n",
    "p_moy = numpy.array([])\n",
    "p_err = numpy.array([])\n",
    "\n",
    "for i in range(len(p[0,:])): # parcourt les intervalles\n",
    "    p_moy = numpy.append(p_moy,numpy.sum(p[:,i])/len(p[:,i]))\n",
    "    p_err = numpy.append(p_err,numpy.std(p[:,i])/numpy.sqrt(len(p[:,i])))\n",
    "    \n",
    "\n",
    "#p_moy2 = numpy.array([])\n",
    "#p_err2 = numpy.array([])\n",
    "#num_sim = 417 # nombre de simulations à prendre en compte dans les stats\n",
    "#shift_sim = 417 # prendre les simulations à partir de la shift_sim ème\n",
    "#for i in range(len(p[0,:])): # parcourt les intervalles\n",
    "#    p_moy2 = numpy.append(p_moy2,numpy.sum(p[shift_sim:shift_sim+num_sim,i])/len(p[shift_sim:shift_sim+num_sim,i]))\n",
    "#    p_err2 = numpy.append(p_err2,numpy.std(p[shift_sim:shift_sim+num_sim,i])/numpy.sqrt(len(p[shift_sim:shift_sim+num_sim,i])))    \n",
    "\n",
    "    \n",
    "pyplot.figure(figsize=(8,5));\n",
    "pyplot.errorbar(numpy.arange(len(p_moy)), p_moy, yerr=p_err, fmt='.');\n",
    "#pyplot.errorbar(numpy.arange(len(p_moy2))*len(p_moy)/len(p_moy2), p_moy2, yerr=p_err2, fmt='.');\n",
    "pyplot.title(\"Pressions moyennes au cours du temps\");\n",
    "pyplot.xlabel('$t/\\Delta t$');\n",
    "pyplot.ylabel('<p>');\n",
    "pyplot.grid();\n",
    "pyplot.show()\n",
    "\n",
    "pyplot.figure(figsize=(8,5));\n",
    "pyplot.plot(p_moy, '.');\n",
    "pyplot.title(\"Pressions moyennes au cours du temps\");\n",
    "pyplot.xlabel('$t/\\Delta t$');\n",
    "pyplot.ylabel('<p>');\n",
    "pyplot.grid();\n",
    "pyplot.show()\n",
    "\n",
    "pyplot.figure(figsize=(8,5));\n",
    "pyplot.plot(p_err*1e6, '.');\n",
    "pyplot.title(\"Erreurs sur les pressions moyennes au cours du temps\");\n",
    "pyplot.xlabel('$t/\\Delta t$');\n",
    "pyplot.ylabel('$\\sigma\\ x\\ 10^{-6}$');\n",
    "pyplot.grid();\n",
    "pyplot.show()\n",
    "\n",
    "print (\"Nombre de simulations =\", len(p[:,0]))"
   ]
  },
  {
   "cell_type": "markdown",
   "metadata": {},
   "source": [
    "On remarque que le premier bin est à une pression nettement plus grande que les autres: pourquoi? \n",
    "Les autres points semblent suivrent une petite oscillation, mais celle-ci ne semble pas être la même suivant le nombre de simulation qu'on utilise pour les moyenne (!?), ces oscillations sont au-delà des barres d'erreur -> pas du hasard. Qu'est-ce qu'elles signifient ?"
   ]
  },
  {
   "cell_type": "code",
   "execution_count": null,
   "metadata": {},
   "outputs": [],
   "source": []
  }
 ],
 "metadata": {
  "kernelspec": {
   "display_name": "Python 3",
   "language": "python",
   "name": "python3"
  },
  "language_info": {
   "codemirror_mode": {
    "name": "ipython",
    "version": 3
   },
   "file_extension": ".py",
   "mimetype": "text/x-python",
   "name": "python",
   "nbconvert_exporter": "python",
   "pygments_lexer": "ipython3",
   "version": "3.6.5"
  }
 },
 "nbformat": 4,
 "nbformat_minor": 2
}
