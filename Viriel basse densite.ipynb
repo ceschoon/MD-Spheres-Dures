{
 "cells": [
  {
   "cell_type": "markdown",
   "metadata": {},
   "source": [
    "# Pression à basse densité: Deuxième et troisième coefficients du Viriel"
   ]
  },
  {
   "cell_type": "code",
   "execution_count": null,
   "metadata": {},
   "outputs": [],
   "source": [
    "import numpy,pandas,time,threading,os\n",
    "from matplotlib import pyplot\n",
    "%matplotlib inline\n",
    "from matplotlib import rcParams\n",
    "rcParams['font.family'] = 'serif'\n",
    "rcParams['font.size'] = 16"
   ]
  },
  {
   "cell_type": "markdown",
   "metadata": {},
   "source": [
    "La pression doit s'exprimer en fonction de la densité comme suit\n",
    "\n",
    "$$ \\frac {P}{nT} = 1 + B_2 n + B_3 n^2 + \\mathcal{O}(n^3) $$\n",
    "\n",
    "Les deuxième et troisième coefficients du viriel sont donnés par\n",
    "\n",
    "$$ B_2 = \\frac{16\\pi R^3}{3} = \\frac {16\\pi}{3} = 16.75516 $$\n",
    "$$ B_3 = \\frac{160\\pi^2 R^6}{9} = \\frac{160\\pi}{9} = 175.460 $$\n",
    "\n",
    "Les termes correspondant valent\n",
    "\n",
    "$$ B_2 n = 16.75516 \\times 0.0002 = 3.351032 \\times 10^{-3} $$\n",
    "$$ B_3 n^2 = 175.460 \\times 0.0002^2 = 7.018 \\times 10^{-6} $$\n",
    "\n",
    "Nous négligerons la contribution des coefficients d'ordre supérieur. \n",
    "\n",
    "L'équation d'état que nous devrions trouver numériquement pour la pression est donc \n",
    "\n",
    "$$ \\frac {P}{nT} = 1.00335805 $$"
   ]
  },
  {
   "cell_type": "markdown",
   "metadata": {},
   "source": [
    "## De longues simulations ou plusieurs petites ?"
   ]
  },
  {
   "cell_type": "code",
   "execution_count": null,
   "metadata": {},
   "outputs": [],
   "source": [
    "def petites_sim():\n",
    "    \n",
    "    NSim = 100 # nombre de simulations\n",
    "\n",
    "    start = time.time()\n",
    "    for i in range(NSim):\n",
    "        print (\"./simulationO3 3 3 3 0.0002 1 200 0 _Short    simulation n°\", i)\n",
    "        os.system(\"./simulationO3 3 3 3 0.0002 1 200 0 _Short\")\n",
    "        os.system(\"mkdir data_viriel\")\n",
    "        os.system(\"mv data/collisionData_Short.csv data_viriel/collisionData_LD_short{:d}.csv\".format(i))\n",
    "        os.system(\"mv data/infoSimulation_Short.csv data_viriel/infoSimulation_LD_short{:d}.csv\".format(i))\n",
    "        os.system(\"mv data/particle0Data_Short.csv data_viriel/particle0Data_LD_short{:d}.csv\".format(i))\n",
    "        os.system(\"mv data/excursionData_Short.csv data_viriel/excursionData_LD_short{:d}.csv\".format(i))\n",
    "    print (\"Execution time: {:.3f} seconds\".format(time.time()-start))"
   ]
  },
  {
   "cell_type": "code",
   "execution_count": null,
   "metadata": {},
   "outputs": [],
   "source": [
    "def grandes_sim():\n",
    "    \n",
    "    NSim = 10 # nombre de simulations\n",
    "\n",
    "    start = time.time()\n",
    "    for i in range(NSim):\n",
    "        print (\"./simulationO3 3 3 3 0.0002 1 2000 0 _Long    simulation n°\", i)\n",
    "        os.system(\"./simulationO3 3 3 3 0.0002 1 2000 0 _Long\")\n",
    "        os.system(\"mkdir data_viriel\")\n",
    "        os.system(\"mv data/collisionData_Long.csv data_viriel/collisionData_LD_long{:d}.csv\".format(i))\n",
    "        os.system(\"mv data/infoSimulation_Long.csv data_viriel/infoSimulation_LD_long{:d}.csv\".format(i))\n",
    "        os.system(\"mv data/particle0Data_Long.csv data_viriel/particle0Data_LD_long{:d}.csv\".format(i))\n",
    "        os.system(\"mv data/excursionData_Long.csv data_viriel/excursionData_LD_long{:d}.csv\".format(i))\n",
    "    print (\"Execution time: {:.3f} seconds\".format(time.time()-start))"
   ]
  },
  {
   "cell_type": "code",
   "execution_count": null,
   "metadata": {},
   "outputs": [],
   "source": [
    "threading.Thread(target=petites_sim).start()\n",
    "threading.Thread(target=grandes_sim).start()"
   ]
  },
  {
   "cell_type": "markdown",
   "metadata": {},
   "source": [
    "### Petites simulations"
   ]
  },
  {
   "cell_type": "code",
   "execution_count": null,
   "metadata": {},
   "outputs": [],
   "source": [
    "N = 108\n",
    "T = 1\n",
    "t_sim = 200\n",
    "NSim = 100\n",
    "\n",
    "p_sim = numpy.zeros(NSim)\n",
    "\n",
    "for i in range(NSim):\n",
    "    \n",
    "    collisionData = pandas.read_csv(\"data_viriel/collisionData_LD_short{:d}.csv\".format(i))\n",
    "    [t,vDotr] = numpy.transpose(collisionData.as_matrix(['t','vDotr']))\n",
    "\n",
    "    p_sim[i] = 1 + 1/(N*3*T*(t[-1]-t[0])) * numpy.sum(vDotr)\n",
    "\n",
    "print (p_sim)\n",
    "\n",
    "pyplot.figure(figsize=(8,5));\n",
    "pyplot.plot(p_sim, '.');\n",
    "pyplot.title(\"Petites Simulations\");\n",
    "pyplot.xlabel('simulation');\n",
    "pyplot.ylabel('p');\n",
    "pyplot.grid();\n",
    "pyplot.show()\n",
    "\n",
    "p_moy = numpy.sum(p_sim)/len(p_sim)\n",
    "p_err = numpy.std(p_sim)/numpy.sqrt(len(p_sim))\n",
    "print (p_moy)\n",
    "print (p_err)"
   ]
  },
  {
   "cell_type": "markdown",
   "metadata": {},
   "source": [
    "### Grandes simulations"
   ]
  },
  {
   "cell_type": "code",
   "execution_count": null,
   "metadata": {},
   "outputs": [],
   "source": [
    "N = 108\n",
    "T = 1\n",
    "NSim = 10\n",
    "\n",
    "p_sim = numpy.zeros(NSim)\n",
    "\n",
    "for i in range(NSim):\n",
    "    \n",
    "    collisionData = pandas.read_csv(\"data_viriel/collisionData_LD_long{:d}.csv\".format(i))\n",
    "    [t,vDotr] = numpy.transpose(collisionData.as_matrix(['t','vDotr']))\n",
    "\n",
    "    p_sim[i] = 1 + 1/(N*3*T*(t[-1]-t[0])) * numpy.sum(vDotr)\n",
    "\n",
    "print (p_sim)\n",
    "\n",
    "pyplot.figure(figsize=(8,5));\n",
    "pyplot.plot(p_sim, '.');\n",
    "pyplot.title(\"Grandes Simulations\");\n",
    "pyplot.xlabel('simulation');\n",
    "pyplot.ylabel('p');\n",
    "pyplot.grid();\n",
    "pyplot.show()\n",
    "\n",
    "p_moy = numpy.sum(p_sim)/len(p_sim)\n",
    "p_err = numpy.std(p_sim)/numpy.sqrt(len(p_sim))\n",
    "print (p_moy)\n",
    "print (p_err)"
   ]
  },
  {
   "cell_type": "markdown",
   "metadata": {},
   "source": [
    "## Réalisation d'un programme bouclant un grand nombre de simulations"
   ]
  },
  {
   "cell_type": "markdown",
   "metadata": {},
   "source": [
    "Programme écrit dans le fichier \"simulate.py\""
   ]
  },
  {
   "cell_type": "code",
   "execution_count": null,
   "metadata": {},
   "outputs": [],
   "source": [
    "f = open(\"data_viriel/pressures.csv\",\"r\")\n",
    "line = f.readline()[:-1]\n",
    "num = float(line)\n",
    "\n",
    "p = numpy.array([])\n",
    "\n",
    "line = f.readline()\n",
    "while line!=\"\":\n",
    "    p = numpy.append(p,float(line[:-1]))\n",
    "    line = f.readline()\n",
    "    \n",
    "pyplot.figure(figsize=(8,5));\n",
    "pyplot.plot(p, '.');\n",
    "pyplot.title(\"Simulations While\");\n",
    "pyplot.xlabel('simulation');\n",
    "pyplot.ylabel('p');\n",
    "pyplot.grid();\n",
    "pyplot.show()\n",
    "    \n",
    "\n",
    "print (\"Nombre de simulations =\", len(p))\n",
    "p_moy = numpy.sum(p)/len(p)\n",
    "p_err = numpy.std(p)/numpy.sqrt(len(p))\n",
    "print (\"p_moy =\",p_moy)\n",
    "print (\"p_err =\",p_err)"
   ]
  },
  {
   "cell_type": "code",
   "execution_count": null,
   "metadata": {},
   "outputs": [],
   "source": []
  }
 ],
 "metadata": {
  "kernelspec": {
   "display_name": "Python 3",
   "language": "python",
   "name": "python3"
  },
  "language_info": {
   "codemirror_mode": {
    "name": "ipython",
    "version": 3
   },
   "file_extension": ".py",
   "mimetype": "text/x-python",
   "name": "python",
   "nbconvert_exporter": "python",
   "pygments_lexer": "ipython3",
   "version": "3.6.5"
  }
 },
 "nbformat": 4,
 "nbformat_minor": 2
}
