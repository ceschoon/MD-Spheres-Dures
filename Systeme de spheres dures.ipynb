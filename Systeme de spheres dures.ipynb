{
 "cells": [
  {
   "cell_type": "markdown",
   "metadata": {},
   "source": [
    "# Etude d'un système de spheres dures par simulation moléculaire"
   ]
  },
  {
   "cell_type": "code",
   "execution_count": null,
   "metadata": {
    "collapsed": true
   },
   "outputs": [],
   "source": [
    "import numpy,pandas\n",
    "from matplotlib import pyplot\n",
    "%matplotlib inline\n",
    "from matplotlib import rcParams\n",
    "rcParams['font.family'] = 'serif'\n",
    "rcParams['font.size'] = 16\n",
    "import os"
   ]
  },
  {
   "cell_type": "markdown",
   "metadata": {},
   "source": [
    "## Equation d'état à basse densité -- Deuxième coefficient du viriel"
   ]
  },
  {
   "cell_type": "markdown",
   "metadata": {},
   "source": [
    "Nous allons ici comparer la pression donnée par la simulation avec celle connue analytiquement. Nous réalisons une simulation d'un gaz de sphères dures de température $T=1$, de densité $n=0.00022$ et constitué de $N=108$ particules, placées initialement dans une boîte cubique comprenant 3x3x3 mailles fcc.\n",
    "\n",
    "Nous travaillons dans le système d'unités où le rayon des sphères vaut $1$, la masse des particules vaut $1$ et la constante de Boltzmann $k=1$.\n",
    "\n",
    "La pression doit s'exprimer en fonction de la densité comme suit\n",
    "\n",
    "$$ \\frac {P}{nT} = 1 + B_2 n + B_3 n^2 + \\mathcal{O}(n^3) $$\n",
    "\n",
    "Les deuxième et troisième coefficients du viriel sont donnés par\n",
    "\n",
    "$$ B_2 = \\frac{16\\pi R^3}{3} = \\frac {16\\pi}{3} = 16.755 $$\n",
    "$$ B_3 = \\frac{160\\pi^2 R^6}{9} = \\frac{160\\pi}{9} = 175.460 $$\n",
    "\n",
    "Les termes correspondant valent\n",
    "\n",
    "$$ B_2 n = 16.755 \\times 0.00022 = 3.686 \\times 10^{-3} $$\n",
    "$$ B_3 n^2 = 175.460 \\times 0.00022^2 = 8.492 \\times 10^{-6} $$\n",
    "\n",
    "Nous négligerons la contribution des coefficients d'ordre 3 et plus. \n",
    "\n",
    "L'équation d'état que nous devrions trouver numériquement pour la pression est donc \n",
    "\n",
    "$$ \\frac {P}{nT} = 1.00369(1) $$"
   ]
  },
  {
   "cell_type": "markdown",
   "metadata": {},
   "source": [
    "### Equation d'état à partir d'une longue simulation"
   ]
  },
  {
   "cell_type": "code",
   "execution_count": null,
   "metadata": {},
   "outputs": [],
   "source": [
    "os.system('./simulationO3 3 3 3 0.00022 1 21000 0')\n",
    "os.system(\"mv data/collisionData.csv data/collisionData_long.csv\".format(i))\n",
    "os.system(\"mv data/infoSimulation.csv data/infoSimulation_long.csv\".format(i))"
   ]
  },
  {
   "cell_type": "code",
   "execution_count": null,
   "metadata": {},
   "outputs": [],
   "source": [
    "#collisionData = pandas.read_csv('data/collisionData_3_3_3_0.00022_1_100000_0_0.02_5_6.dat')\n",
    "collisionData = pandas.read_csv('data/collisionData_long.csv')\n",
    "[t,vDotr] = numpy.transpose(collisionData.as_matrix(['t','vDotr']))\n",
    "\n",
    "print (t[-1])"
   ]
  },
  {
   "cell_type": "code",
   "execution_count": null,
   "metadata": {
    "collapsed": true
   },
   "outputs": [],
   "source": [
    "N = 108\n",
    "T = 1\n",
    "Delta_t = 1000\n",
    "\n",
    "p = numpy.ones(int((t[-1]-t[0])/Delta_t)+1) # pression*beta/densité\n",
    "for i in range(len(t)):\n",
    "    p[int((t[i]-t[0])/Delta_t)] += 1/(N*3*T*Delta_t) * vDotr[i]\n",
    "    \n",
    "p = p[:-1] # dernier bin incomplet"
   ]
  },
  {
   "cell_type": "code",
   "execution_count": null,
   "metadata": {},
   "outputs": [],
   "source": [
    "pyplot.figure(figsize=(8,5));\n",
    "pyplot.plot(p, '.');\n",
    "pyplot.title(\"p avec petit Delta_t\");\n",
    "pyplot.xlabel('t/Delta_t');\n",
    "pyplot.ylabel('p');\n",
    "pyplot.grid();\n",
    "pyplot.show()"
   ]
  },
  {
   "cell_type": "code",
   "execution_count": null,
   "metadata": {},
   "outputs": [],
   "source": [
    "p_moy = numpy.sum(p)/len(p)\n",
    "print (p_moy)"
   ]
  },
  {
   "cell_type": "markdown",
   "metadata": {},
   "source": [
    "#### Estimation de l'erreur en considérant plusieurs les subdivisions $\\Delta t$ de ce temps comme indépendantes"
   ]
  },
  {
   "cell_type": "markdown",
   "metadata": {},
   "source": [
    "Attention: nous ne savons pas si cette hypothèse est valide, nous comparerons plus loin cette erreur à celle obtenue en considérant plusieurs simulations différentes."
   ]
  },
  {
   "cell_type": "code",
   "execution_count": null,
   "metadata": {},
   "outputs": [],
   "source": [
    "p_err = numpy.std(p)/numpy.sqrt(len(p))\n",
    "print (p_err)"
   ]
  },
  {
   "cell_type": "markdown",
   "metadata": {},
   "source": [
    "### Calcul du temps de corrélation"
   ]
  },
  {
   "cell_type": "markdown",
   "metadata": {},
   "source": [
    "La détermination du temps de corrélation est importante pour connaître le durée $\\Delta t$ à utiliser pour calculer la moyenne et l'erreur sur la pression du système. En effet, les valeurs de la pression calculées sur un intervalle $\\Delta t$ trop petit sont corrélées entre elles ce qui complique le calcul de l'erreur statistique sur la pression moyenne. Le temps de corrélation $\\tau$ d'une observable $A$ est défini à partir de la fonction de corrélation  $c_{AA}$:\n",
    "\n",
    "$$ \\tau = \\frac 12 \\sum_{n=-\\infty}^{+\\infty} \\frac{c_{AA}(n)}{c_{AA}(0)} $$\n",
    "$$ c_{AA}(k) = \\langle A_n A_{n+k} \\rangle - \\langle A_n \\rangle ^2 $$\n",
    "\n",
    "L'observable en question est la \"pression réduite\" que l'on a défini comme:\n",
    "\n",
    "$$ p_n = \\frac{\\beta P_n}{n} = 1 + \\frac{1}{3 N T \\Delta t} \\sum v_{ij}\\cdot r_{ij} \\qquad \\text{somme sur les collisions durant [}n\\Delta t\\text{ , } (n+1)\\Delta t \\text{[} $$"
   ]
  },
  {
   "cell_type": "code",
   "execution_count": null,
   "metadata": {
    "collapsed": true
   },
   "outputs": [],
   "source": [
    "def c_pp(k,p):\n",
    "    \n",
    "    N = len(p)\n",
    "    \n",
    "    if k>=0:\n",
    "        avg1 = numpy.sum(p[0:N-k]*p[k:N]) / (N-k) # < p_n*p_{n+k} >\n",
    "        avg2 = numpy.sum(p[0:N-k]) / (N-k) # < p_n >\n",
    "    elif k<0:\n",
    "        avg1 = numpy.sum(p[-k:N]*p[0:N+k]) / (N+k) # < p_n*p_{n+k} >\n",
    "        avg2 = numpy.sum(p[-k:N]) / (N+k) # < p_n >\n",
    "    \n",
    "    return avg1-avg2**2"
   ]
  },
  {
   "cell_type": "code",
   "execution_count": null,
   "metadata": {
    "collapsed": true
   },
   "outputs": [],
   "source": [
    "N = 108\n",
    "T = 1\n",
    "Delta_t = 1000\n",
    "\n",
    "p = numpy.ones(int((t[-1]-t[0])/Delta_t)+1) # pression réduite\n",
    "for i in range(len(t)):\n",
    "    p[int((t[i]-t[0])/Delta_t)] += 1/(N*3*T*Delta_t) * vDotr[i]\n",
    "    \n",
    "p = p[:-1] # dernier bin incomplet"
   ]
  },
  {
   "cell_type": "markdown",
   "metadata": {},
   "source": [
    "On vérifie que $c_{pp}(0)$ est bien la variance du vecteur des pressions réduites."
   ]
  },
  {
   "cell_type": "code",
   "execution_count": null,
   "metadata": {},
   "outputs": [],
   "source": [
    "print( c_pp(0,p) )\n",
    "print( numpy.std(p)**2 )"
   ]
  },
  {
   "cell_type": "markdown",
   "metadata": {},
   "source": [
    "<span style=\"color:red\"> La fonction de corrélation semble beaucoup trop grande. Il me semble qu'elle est censée décroître quand $k$ s'éloigne de $0$. Est-ce donc une erreur ou alors le système est corrélé sur des temps très longs ? </span>"
   ]
  },
  {
   "cell_type": "code",
   "execution_count": null,
   "metadata": {},
   "outputs": [],
   "source": [
    "for i in range(int(len(p)/2)):\n",
    "    print( \"c_pp({:d},p) = {:.3f}e-06\".format(i,c_pp(i,p)*1e6) )"
   ]
  },
  {
   "cell_type": "markdown",
   "metadata": {},
   "source": [
    "### Execution de plusieurs simulations pour avoir des données indépendantes"
   ]
  },
  {
   "cell_type": "markdown",
   "metadata": {},
   "source": [
    "On exécute les commandes linux servant à effectuer les simulations avec le module \"os\"."
   ]
  },
  {
   "cell_type": "code",
   "execution_count": null,
   "metadata": {
    "collapsed": true
   },
   "outputs": [],
   "source": [
    "NSim = 20 # nombre de simulations\n",
    "\n",
    "for i in range(NSim):\n",
    "    os.system('./simulationO3 3 3 3 0.00022 1 1000 0')\n",
    "    os.system(\"mv data/collisionData.csv data/collisionData{:d}.csv\".format(i))\n",
    "    os.system(\"mv data/infoSimulation.csv data/infoSimulation{:d}.csv\".format(i))"
   ]
  },
  {
   "cell_type": "code",
   "execution_count": null,
   "metadata": {},
   "outputs": [],
   "source": [
    "N = 108\n",
    "T = 1\n",
    "Delta_t = 100\n",
    "\n",
    "p_sim = numpy.zeros(NSim)\n",
    "\n",
    "for i in range(NSim):\n",
    "    \n",
    "    collisionData = pandas.read_csv(\"data/collisionData{:d}.csv\".format(i))\n",
    "    [t,vDotr] = numpy.transpose(collisionData.as_matrix(['t','vDotr']))\n",
    "\n",
    "    p = numpy.ones(int((t[-1]-t[0])/Delta_t)+1) # pression réduite\n",
    "    for j in range(len(t)):\n",
    "        p[int((t[j]-t[0])/Delta_t)] += 1/(N*3*T*Delta_t) * vDotr[j]\n",
    "\n",
    "    p = p[:-1] # dernier bin incomplet\n",
    "\n",
    "    p_sim[i] = numpy.sum(p)/len(p)\n",
    "\n",
    "print (p_sim)\n",
    "\n",
    "pyplot.figure(figsize=(8,5));\n",
    "pyplot.plot(p_sim, '.');\n",
    "pyplot.title(\"p pour plusieurs simulations\");\n",
    "pyplot.xlabel('t/Delta_t');\n",
    "pyplot.ylabel('p');\n",
    "pyplot.grid();\n",
    "pyplot.show()\n",
    "\n",
    "p_moy = numpy.sum(p_sim)/len(p_sim)\n",
    "p_err = numpy.std(p_sim)/numpy.sqrt(len(p_sim))\n",
    "print (p_moy)\n",
    "print (p_err)"
   ]
  },
  {
   "cell_type": "code",
   "execution_count": null,
   "metadata": {
    "collapsed": true
   },
   "outputs": [],
   "source": []
  }
 ],
 "metadata": {
  "kernelspec": {
   "display_name": "Python 3",
   "language": "python",
   "name": "python3"
  },
  "language_info": {
   "codemirror_mode": {
    "name": "ipython",
    "version": 3
   },
   "file_extension": ".py",
   "mimetype": "text/x-python",
   "name": "python",
   "nbconvert_exporter": "python",
   "pygments_lexer": "ipython3",
   "version": "3.6.2"
  }
 },
 "nbformat": 4,
 "nbformat_minor": 2
}
