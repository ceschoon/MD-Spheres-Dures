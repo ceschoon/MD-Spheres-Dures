{
 "cells": [
  {
   "cell_type": "markdown",
   "metadata": {},
   "source": [
    "# Etude d'un système de spheres dures par simulation moléculaire"
   ]
  },
  {
   "cell_type": "markdown",
   "metadata": {},
   "source": [
    "ATTENTION: le notebook suivant dans son état actuel s'exécute en un peu plus de 40 heures sur un processeur intel i5-5200U (dual core, limité à 2GHz)."
   ]
  },
  {
   "cell_type": "code",
   "execution_count": null,
   "metadata": {
    "collapsed": true
   },
   "outputs": [],
   "source": [
    "import numpy,pandas,time\n",
    "from matplotlib import pyplot\n",
    "%matplotlib inline\n",
    "from matplotlib import rcParams\n",
    "rcParams['font.family'] = 'serif'\n",
    "rcParams['font.size'] = 16\n",
    "import os"
   ]
  },
  {
   "cell_type": "markdown",
   "metadata": {},
   "source": [
    "## Equation d'état à basse densité -- Deuxième coefficient du viriel"
   ]
  },
  {
   "cell_type": "markdown",
   "metadata": {},
   "source": [
    "Nous allons ici comparer la pression donnée par la simulation avec celle connue analytiquement. Nous réalisons une simulation d'un gaz de sphères dures de température $T=1$, de densité $n=0.0002$ et constitué de $N=108$ particules, placées initialement dans une boîte cubique comprenant 3x3x3 mailles fcc.\n",
    "\n",
    "Nous travaillons dans le système d'unités où le rayon des sphères vaut $1$, la masse des particules vaut $1$ et la constante de Boltzmann $k=1$.\n",
    "\n",
    "La pression doit s'exprimer en fonction de la densité comme suit\n",
    "\n",
    "$$ \\frac {P}{nT} = 1 + B_2 n + B_3 n^2 + \\mathcal{O}(n^3) $$\n",
    "\n",
    "Les deuxième et troisième coefficients du viriel sont donnés par\n",
    "\n",
    "$$ B_2 = \\frac{16\\pi R^3}{3} = \\frac {16\\pi}{3} = 16.755 $$\n",
    "$$ B_3 = \\frac{160\\pi^2 R^6}{9} = \\frac{160\\pi}{9} = 175.460 $$\n",
    "\n",
    "Les termes correspondant valent\n",
    "\n",
    "$$ B_2 n = 16.755 \\times 0.0002 = 3.351 \\times 10^{-3} $$\n",
    "$$ B_3 n^2 = 175.460 \\times 0.0002^2 = 7.018 \\times 10^{-6} $$\n",
    "\n",
    "Nous négligerons la contribution des coefficients d'ordre 3 et plus. \n",
    "\n",
    "L'équation d'état que nous devrions trouver numériquement pour la pression est donc \n",
    "\n",
    "$$ \\frac {P}{nT} = 1.00335(1) $$"
   ]
  },
  {
   "cell_type": "markdown",
   "metadata": {},
   "source": [
    "### Equation d'état à partir d'une longue simulation"
   ]
  },
  {
   "cell_type": "code",
   "execution_count": null,
   "metadata": {},
   "outputs": [],
   "source": [
    "start = time.time()\n",
    "\n",
    "os.system('./simulationO3 3 3 3 0.0002 1 20000 0')\n",
    "os.system('mkdir data_eq_etat')\n",
    "os.system(\"mv data/collisionData.csv data_eq_etat/collisionData_LD_long.csv\")\n",
    "os.system(\"mv data/infoSimulation.csv data_eq_etat/infoSimulation_LD_long.csv\")\n",
    "os.system(\"mv data/particle0Data.csv data_eq_etat/particle0Data_LD_long.csv\")\n",
    "os.system(\"mv data/excursionData.csv data_eq_etat/excursionData_LD_long.csv\")\n",
    "\n",
    "print (\"Execution time: {:.3f} seconds\".format(time.time()-start))"
   ]
  },
  {
   "cell_type": "code",
   "execution_count": null,
   "metadata": {},
   "outputs": [],
   "source": [
    "collisionData = pandas.read_csv('data_eq_etat/collisionData_LD_long.csv')\n",
    "[t,vDotr] = numpy.transpose(collisionData.as_matrix(['t','vDotr']))\n",
    "\n",
    "print (t[-1])"
   ]
  },
  {
   "cell_type": "code",
   "execution_count": null,
   "metadata": {
    "collapsed": true
   },
   "outputs": [],
   "source": [
    "N = 108\n",
    "T = 1\n",
    "Delta_t = 100\n",
    "\n",
    "p = numpy.ones(int((t[-1]-t[0])/Delta_t)+1) # pression*beta/densité\n",
    "for i in range(len(t)):\n",
    "    p[int((t[i]-t[0])/Delta_t)] += 1/(N*3*T*Delta_t) * vDotr[i]\n",
    "    \n",
    "p = p[:-1] # dernier bin incomplet"
   ]
  },
  {
   "cell_type": "code",
   "execution_count": null,
   "metadata": {},
   "outputs": [],
   "source": [
    "pyplot.figure(figsize=(8,5));\n",
    "pyplot.plot(p, '.');\n",
    "pyplot.title(\"p pour chaque Delta_t\");\n",
    "pyplot.xlabel('t/Delta_t');\n",
    "pyplot.ylabel('p');\n",
    "pyplot.grid();\n",
    "pyplot.show()"
   ]
  },
  {
   "cell_type": "code",
   "execution_count": null,
   "metadata": {},
   "outputs": [],
   "source": [
    "p_moy = numpy.sum(p)/len(p)\n",
    "print (p_moy)"
   ]
  },
  {
   "cell_type": "markdown",
   "metadata": {},
   "source": [
    "Nous obtenons une valeur proche de la prédiction. Nous estimons plus loin l'erreur sur ce résultat."
   ]
  },
  {
   "cell_type": "markdown",
   "metadata": {},
   "source": [
    "#### Estimation de l'erreur en considérant plusieurs les subdivisions $\\Delta t$ de ce temps comme indépendantes"
   ]
  },
  {
   "cell_type": "markdown",
   "metadata": {},
   "source": [
    "Attention: nous ne savons pas si cette hypothèse est valide, nous comparerons plus loin cette erreur à celle obtenue en considérant plusieurs simulations différentes."
   ]
  },
  {
   "cell_type": "code",
   "execution_count": null,
   "metadata": {},
   "outputs": [],
   "source": [
    "p_err = numpy.std(p)/numpy.sqrt(len(p))\n",
    "print (p_err)"
   ]
  },
  {
   "cell_type": "markdown",
   "metadata": {},
   "source": [
    "### Calcul du temps de corrélation"
   ]
  },
  {
   "cell_type": "markdown",
   "metadata": {},
   "source": [
    "La détermination du temps de corrélation est importante pour connaître le durée $\\Delta t$ à utiliser pour calculer la moyenne et l'erreur sur la pression du système. En effet, les valeurs de la pression calculées sur un intervalle $\\Delta t$ trop petit sont corrélées entre elles ce qui complique le calcul de l'erreur statistique sur la pression moyenne. Le temps de corrélation $\\tau$ d'une observable $A$ est défini à partir de la fonction de corrélation  $c_{AA}$:\n",
    "\n",
    "$$ \\tau = \\frac 12 \\sum_{n=-\\infty}^{+\\infty} \\frac{c_{AA}(n)}{c_{AA}(0)} $$\n",
    "$$ c_{AA}(k) = \\langle A_n A_{n+k} \\rangle - \\langle A_n \\rangle ^2 $$\n",
    "\n",
    "L'observable en question est la \"pression réduite\" que l'on a défini comme:\n",
    "\n",
    "$$ p_n = \\frac{\\beta P_n}{n} = 1 + \\frac{1}{3 N T \\Delta t} \\sum v_{ij}\\cdot r_{ij} \\qquad \\text{somme sur les collisions durant [}n\\Delta t\\text{ , } (n+1)\\Delta t \\text{[} $$"
   ]
  },
  {
   "cell_type": "code",
   "execution_count": null,
   "metadata": {
    "collapsed": true
   },
   "outputs": [],
   "source": [
    "def c_pp(k,p):\n",
    "    \n",
    "    N = len(p)\n",
    "    \n",
    "    if k>=0:\n",
    "        avg1 = numpy.sum(p[0:N-k]*p[k:N]) / (N-k) # < p_n*p_{n+k} >\n",
    "        avg2 = numpy.sum(p[0:N-k]) / (N-k) # < p_n >\n",
    "    elif k<0:\n",
    "        avg1 = numpy.sum(p[-k:N]*p[0:N+k]) / (N+k) # < p_n*p_{n+k} >\n",
    "        avg2 = numpy.sum(p[-k:N]) / (N+k) # < p_n >\n",
    "    \n",
    "    return avg1-avg2**2"
   ]
  },
  {
   "cell_type": "code",
   "execution_count": null,
   "metadata": {
    "collapsed": true
   },
   "outputs": [],
   "source": [
    "N = 108\n",
    "T = 1\n",
    "Delta_t = 10\n",
    "\n",
    "p = numpy.ones(int((t[-1]-t[0])/Delta_t)+1) # pression réduite\n",
    "for i in range(len(t)):\n",
    "    p[int((t[i]-t[0])/Delta_t)] += 1/(N*3*T*Delta_t) * vDotr[i]\n",
    "    \n",
    "p = p[:-1] # dernier bin incomplet"
   ]
  },
  {
   "cell_type": "markdown",
   "metadata": {},
   "source": [
    "On vérifie que $c_{pp}(0)$ est bien la variance du vecteur des pressions réduites."
   ]
  },
  {
   "cell_type": "code",
   "execution_count": null,
   "metadata": {},
   "outputs": [],
   "source": [
    "print( c_pp(0,p) )\n",
    "print( numpy.std(p)**2 )"
   ]
  },
  {
   "cell_type": "markdown",
   "metadata": {},
   "source": [
    "<span style=\"color:red\"> La fonction de corrélation semble beaucoup trop grande. Il me semble qu'elle est censée décroître quand $k$ s'éloigne de $0$. Est-ce donc une erreur ou alors le système est corrélé sur des temps très longs ? </span>"
   ]
  },
  {
   "cell_type": "code",
   "execution_count": null,
   "metadata": {},
   "outputs": [],
   "source": [
    "for i in range(int(len(p)/2)):\n",
    "    print( \"c_pp({:d},p) = {:.3f}e-06\".format(i,c_pp(i,p)*1e6) )"
   ]
  },
  {
   "cell_type": "markdown",
   "metadata": {},
   "source": [
    "### Execution de plusieurs simulations pour avoir des données indépendantes"
   ]
  },
  {
   "cell_type": "markdown",
   "metadata": {},
   "source": [
    "On exécute les commandes linux servant à effectuer les simulations avec le module \"os\"."
   ]
  },
  {
   "cell_type": "code",
   "execution_count": null,
   "metadata": {},
   "outputs": [],
   "source": [
    "NSim = 20 # nombre de simulations\n",
    "\n",
    "start = time.time()\n",
    "for i in range(NSim):\n",
    "    print (\"./simulationO3 3 3 3 0.0002 1 1000 0\")\n",
    "    os.system(\"./simulationO3 3 3 3 0.0002 1 1000 0\")\n",
    "    os.system(\"mv data/collisionData.csv data_eq_etat/collisionData_LD_short{:d}.csv\".format(i))\n",
    "    os.system(\"mv data/infoSimulation.csv data_eq_etat/infoSimulation_LD_short{:d}.csv\".format(i))\n",
    "    os.system(\"mv data/particle0Data.csv data_eq_etat/particle0Data_LD_short{:d}.csv\".format(i))\n",
    "    os.system(\"mv data/excursionData.csv data_eq_etat/excursionData_LD_short{:d}.csv\".format(i))\n",
    "print (\"Execution time: {:.3f} seconds\".format(time.time()-start))"
   ]
  },
  {
   "cell_type": "code",
   "execution_count": null,
   "metadata": {},
   "outputs": [],
   "source": [
    "N = 108\n",
    "T = 1\n",
    "t_sim = 1000\n",
    "\n",
    "p_sim = numpy.zeros(NSim)\n",
    "\n",
    "for i in range(NSim):\n",
    "    \n",
    "    collisionData = pandas.read_csv(\"data_eq_etat/collisionData_LD_short{:d}.csv\".format(i))\n",
    "    [t,vDotr] = numpy.transpose(collisionData.as_matrix(['t','vDotr']))\n",
    "\n",
    "    p_sim[i] = 1 + 1/(N*3*T*t_sim) * numpy.sum(vDotr)\n",
    "\n",
    "print (p_sim)\n",
    "\n",
    "pyplot.figure(figsize=(8,5));\n",
    "pyplot.plot(p_sim, '.');\n",
    "pyplot.title(\"p pour plusieurs simulations\");\n",
    "pyplot.xlabel('simulation');\n",
    "pyplot.ylabel('p');\n",
    "pyplot.grid();\n",
    "pyplot.show()\n",
    "\n",
    "p_moy = numpy.sum(p_sim)/len(p_sim)\n",
    "p_err = numpy.std(p_sim)/numpy.sqrt(len(p_sim))\n",
    "print (p_moy)\n",
    "print (p_err)"
   ]
  },
  {
   "cell_type": "markdown",
   "metadata": {},
   "source": [
    "Nous remarquons que la valeur obtenue est éloignée d'environ 1 sigma avec la prédiction théorique. L'accord est satisfaisant."
   ]
  },
  {
   "cell_type": "markdown",
   "metadata": {},
   "source": [
    "## Equation d'état à haute densité"
   ]
  },
  {
   "cell_type": "markdown",
   "metadata": {},
   "source": [
    "### Equation d'état à partir d'une longue simulation"
   ]
  },
  {
   "cell_type": "code",
   "execution_count": null,
   "metadata": {},
   "outputs": [],
   "source": [
    "n_max = 1/8*numpy.sqrt(2)\n",
    "print (n_max)"
   ]
  },
  {
   "cell_type": "code",
   "execution_count": null,
   "metadata": {},
   "outputs": [],
   "source": [
    "start = time.time()\n",
    "os.system(\"./simulationO3 3 3 3 {:.8f} 1 200 0\".format(0.3*n_max))\n",
    "os.system(\"mv data/collisionData.csv data_eq_etat/collisionData_HD_long.csv\".format(i))\n",
    "os.system(\"mv data/infoSimulation.csv data_eq_etat/infoSimulation_HD_long.csv\".format(i))\n",
    "os.system(\"mv data/particle0Data.csv data_eq_etat/particle0Data_HD_long.csv\".format(i))\n",
    "os.system(\"mv data/excursionData.csv data_eq_etat/excursionData_HD_long.csv\".format(i))\n",
    "print (\"Execution time: {:.3f} seconds\".format(time.time()-start))"
   ]
  },
  {
   "cell_type": "code",
   "execution_count": null,
   "metadata": {},
   "outputs": [],
   "source": [
    "collisionData = pandas.read_csv('data_eq_etat/collisionData_HD_long.csv')\n",
    "[t,vDotr] = numpy.transpose(collisionData.as_matrix(['t','vDotr']))\n",
    "\n",
    "N = 108\n",
    "T = 1\n",
    "Delta_t = 10\n",
    "\n",
    "p = numpy.ones(int((t[-1]-t[0])/Delta_t)+1) # pression*beta/densité\n",
    "for i in range(len(t)):\n",
    "    p[int((t[i]-t[0])/Delta_t)] += 1/(N*3*T*Delta_t) * vDotr[i]\n",
    "    \n",
    "p = p[:-1] # dernier bin incomplet\n",
    "\n",
    "pyplot.figure(figsize=(8,5));\n",
    "pyplot.plot(p, '.');\n",
    "pyplot.title(\"p pour chaque Delta_t\");\n",
    "pyplot.xlabel('t/Delta_t');\n",
    "pyplot.ylabel('p');\n",
    "pyplot.grid();\n",
    "pyplot.show()\n",
    "\n",
    "p_moy = numpy.sum(p)/len(p)\n",
    "print (p_moy)"
   ]
  },
  {
   "cell_type": "markdown",
   "metadata": {},
   "source": [
    "### Execution de plusieurs simulations pour avoir des données indépendantes"
   ]
  },
  {
   "cell_type": "code",
   "execution_count": null,
   "metadata": {},
   "outputs": [],
   "source": [
    "NSim = 20 # nombre de simulations\n",
    "\n",
    "start = time.time()\n",
    "for i in range(NSim):\n",
    "    print (\"./simulationO3 3 3 3 {:.8f} 1 10 0\".format(0.3*n_max))\n",
    "    os.system(\"./simulationO3 3 3 3 {:.8f} 1 10 0\".format(0.3*n_max))\n",
    "    os.system(\"mv data/collisionData.csv data_eq_etat/collisionData_HD_short{:d}.csv\".format(i))\n",
    "    os.system(\"mv data/infoSimulation.csv data_eq_etat/infoSimulation_HD_short{:d}.csv\".format(i))\n",
    "    os.system(\"mv data/particle0Data.csv data_eq_etat/particle0Data_HD_short{:d}.csv\".format(i))\n",
    "    os.system(\"mv data/excursionData.csv data_eq_etat/excursionData_HD_short{:d}.csv\".format(i))\n",
    "print (\"Execution time: {:.3f} seconds\".format(time.time()-start))"
   ]
  },
  {
   "cell_type": "code",
   "execution_count": null,
   "metadata": {},
   "outputs": [],
   "source": [
    "N = 108\n",
    "T = 1\n",
    "t_sim = 10\n",
    "\n",
    "p_sim = numpy.zeros(NSim)\n",
    "\n",
    "for i in range(NSim):\n",
    "    \n",
    "    collisionData = pandas.read_csv(\"data_eq_etat/collisionData_HD_short{:d}.csv\".format(i))\n",
    "    [t,vDotr] = numpy.transpose(collisionData.as_matrix(['t','vDotr']))\n",
    "\n",
    "    p_sim[i] = 1 + 1/(N*3*T*t_sim) * numpy.sum(vDotr)\n",
    "\n",
    "print (p_sim)\n",
    "\n",
    "pyplot.figure(figsize=(8,5));\n",
    "pyplot.plot(p_sim, '.');\n",
    "pyplot.title(\"p pour plusieurs simulations\");\n",
    "pyplot.xlabel('simulation');\n",
    "pyplot.ylabel('p');\n",
    "pyplot.grid();\n",
    "pyplot.show()\n",
    "\n",
    "p_moy = numpy.sum(p_sim)/len(p_sim)\n",
    "p_err = numpy.std(p_sim)/numpy.sqrt(len(p_sim))\n",
    "print (p_moy)\n",
    "print (p_err)"
   ]
  },
  {
   "cell_type": "markdown",
   "metadata": {
    "collapsed": true
   },
   "source": [
    "## Pression en fonction de la densité"
   ]
  },
  {
   "cell_type": "code",
   "execution_count": null,
   "metadata": {},
   "outputs": [],
   "source": [
    "n_max = 1/8*numpy.sqrt(2)\n",
    "n = numpy.linspace(0.01*n_max,0.1*n_max,10)\n",
    "\n",
    "os.system(\"mkdir data_pFctn\")\n",
    "start = time.time()\n",
    "for i in range(len(n)):\n",
    "    print (\"./simulationO3 3 3 3 {:.8f} 1 100 0\".format(n[i]))\n",
    "    os.system(\"./simulationO3 3 3 3 {:.8f} 1 100 0\".format(n[i]))\n",
    "    os.system(\"mv data/collisionData.csv data_pFctn/collisionData{:.4f}.csv\".format(n[i]/n_max))\n",
    "    os.system(\"mv data/infoSimulation.csv data_pFctn/infoSimulation{:.4f}.csv\".format(n[i]/n_max))\n",
    "    os.system(\"mv data/particle0Data.csv data_pFctn/particle0Data{:.4f}.csv\".format(n[i]/n_max))\n",
    "    os.system(\"mv data/excursionData.csv data_pFctn/excursionData{:.4f}.csv\".format(n[i]/n_max))\n",
    "print (\"Execution time: {:.3f} seconds\".format(time.time()-start))"
   ]
  },
  {
   "cell_type": "code",
   "execution_count": null,
   "metadata": {},
   "outputs": [],
   "source": [
    "n_max = 1/8*numpy.sqrt(2)\n",
    "n = numpy.linspace(0.5*n_max,0.8*n_max,61)\n",
    "\n",
    "start = time.time()\n",
    "for i in range(len(n)):\n",
    "    print (\"./simulationO3 3 3 3 {:.8f} 1 200 0\".format(n[i]))\n",
    "    os.system(\"./simulationO3 3 3 3 {:.8f} 1 200 0\".format(n[i]))\n",
    "    os.system(\"mv data/collisionData.csv data_pFctn/collisionData{:.4f}.csv\".format(n[i]/n_max))\n",
    "    os.system(\"mv data/infoSimulation.csv data_pFctn/infoSimulation{:.4f}.csv\".format(n[i]/n_max))\n",
    "    os.system(\"mv data/particle0Data.csv data_pFctn/particle0Data{:.4f}.csv\".format(n[i]/n_max))\n",
    "    os.system(\"mv data/excursionData.csv data_pFctn/excursionData{:.4f}.csv\".format(n[i]/n_max))\n",
    "print (\"Execution time: {:.3f} seconds\".format(time.time()-start))"
   ]
  },
  {
   "cell_type": "code",
   "execution_count": null,
   "metadata": {
    "scrolled": true
   },
   "outputs": [],
   "source": [
    "#n = numpy.linspace(0.01*n_max,0.1*n_max,10)\n",
    "n = numpy.linspace(0.5*n_max,0.8*n_max,61)\n",
    "p_n = numpy.zeros(len(n))\n",
    "\n",
    "N = 108\n",
    "T = 1\n",
    "Delta_t = 10\n",
    "\n",
    "for i in range(len(n)):\n",
    "    \n",
    "    collisionData = pandas.read_csv(\"data_pFctn/collisionData{:.4f}.csv\".format(n[i]/n_max))\n",
    "    [t,vDotr] = numpy.transpose(collisionData.as_matrix(['t','vDotr']))\n",
    "\n",
    "    p = numpy.ones(int((t[-1]-t[0])/Delta_t)+1) # pression réduite\n",
    "    for j in range(len(t)):\n",
    "        p[int((t[j]-t[0])/Delta_t)] += 1/(N*3*T*Delta_t) * vDotr[j]\n",
    "\n",
    "    p = p[10:-1] # dernier bin incomplet, prend qu'à partir de 10 (semble avoir atteint un équilibre)\n",
    "    \n",
    "    p_n[i] = numpy.sum(p)/len(p)\n",
    "\n",
    "pyplot.figure(figsize=(8,5));\n",
    "pyplot.plot(n/n_max,p_n, '.');\n",
    "pyplot.title(\"p en fonction de n\");\n",
    "pyplot.xlabel('n/n_max');\n",
    "pyplot.ylabel('p');\n",
    "pyplot.grid();\n",
    "pyplot.show()\n",
    "\n",
    "pyplot.figure(figsize=(8,5));\n",
    "pyplot.plot(n/n_max,p_n*n/n_max, '.');\n",
    "pyplot.title(\"P en fonction de n\");\n",
    "pyplot.xlabel('n/n_max');\n",
    "pyplot.ylabel('P/(n_max*k*T)');\n",
    "pyplot.grid();\n",
    "pyplot.show()"
   ]
  },
  {
   "cell_type": "markdown",
   "metadata": {
    "collapsed": true
   },
   "source": [
    "## \"Fluidité\" en fonction de la densité"
   ]
  },
  {
   "cell_type": "markdown",
   "metadata": {},
   "source": [
    "Nous étudions ici la fluidité du système en fonction de sa densité. Comme indicateur de la fluidité, nous utiliserons le temps mis par une particule pour sortir d'une sphère de rayon 1 centrée autour de sa position initiale. Plus ce temps est long, plus la particule a du mal à se mouvoir entre les autres particules ce qui indique que le système est moins fluide. La transition fluide-solide devrait être caractérisée par une augmentation considérable de ce temps de sortie. \n",
    "\n",
    "Nous appelerons \"fluidité\" l'inverse de ce temps de sortie. Nous calculons la fluidité pour chacune des particules et définissons la fluidité du système comme la moyenne des fluidités individuelles. Le temps de sortie du système est donc la moyenne harmonique des temps de sortie individuels."
   ]
  },
  {
   "cell_type": "code",
   "execution_count": null,
   "metadata": {},
   "outputs": [],
   "source": [
    "n_max = 1/8*numpy.sqrt(2)\n",
    "n = numpy.linspace(0.55*n_max,0.7*n_max,31)\n",
    "\n",
    "os.system(\"mkdir data_fluidity\")\n",
    "start = time.time()\n",
    "for i in range(len(n)):\n",
    "    print (\"./simulationO3 3 3 3 {:.8f} 1 50 0\".format(n[i]))\n",
    "    os.system(\"./simulationO3 3 3 3 {:.8f} 1 50 0\".format(n[i]))\n",
    "    os.system(\"mv data/collisionData.csv data_fluidity/collisionData{:.4f}.csv\".format(n[i]/n_max))\n",
    "    os.system(\"mv data/excursionData.csv data_fluidity/excursionData{:.4f}.csv\".format(n[i]/n_max))\n",
    "    os.system(\"mv data/infoSimulation.csv data_fluidity/infoSimulation{:.4f}.csv\".format(n[i]/n_max))\n",
    "    os.system(\"mv data/particle0Data.csv data_fluidity/particle0Data{:.4f}.csv\".format(n[i]/n_max))\n",
    "print (\"Execution time: {:.3f} seconds\".format(time.time()-start))"
   ]
  },
  {
   "cell_type": "code",
   "execution_count": null,
   "metadata": {},
   "outputs": [],
   "source": [
    "n = numpy.linspace(0.55*n_max,0.7*n_max,31)\n",
    "fluidity_n = numpy.zeros(len(n))\n",
    "\n",
    "for i in range(len(n)):\n",
    "    \n",
    "    excursionData = pandas.read_csv(\"data_fluidity/excursionData{:.4f}.csv\".format(n[i]/n_max))\n",
    "    [fluidity] = numpy.transpose(excursionData.as_matrix(['fluidity']))\n",
    "    infoSimulation = pandas.read_csv(\"data_fluidity/infoSimulation{:.4f}.csv\".format(n[i]/n_max))\n",
    "    [mx,my,mz,a] = numpy.transpose(infoSimulation.as_matrix(['mx','my','mz','a']))\n",
    "    \n",
    "    fluidity_n[i] = numpy.sum(fluidity)/len(fluidity) # moyenne des fluidités de chaque particule\n",
    "\n",
    "pyplot.figure(figsize=(8,5));\n",
    "pyplot.plot(n/n_max,fluidity_n, '.'); \n",
    "pyplot.title(\"fluidité en fonction de n\");\n",
    "pyplot.xlabel('n/n_max');\n",
    "pyplot.ylabel('fluidité');\n",
    "pyplot.grid();\n",
    "pyplot.show()\n",
    "\n",
    "pyplot.figure(figsize=(8,5));\n",
    "pyplot.plot(n/n_max,numpy.log(1/fluidity_n), '.'); # risque de division par 0 mais on s'en fiche\n",
    "#pyplot.plot(n/n_max,1/fluidity_n, '.');\n",
    "pyplot.title(\"temps de sortie en fonction de n\");\n",
    "pyplot.xlabel('n/n_max');\n",
    "pyplot.ylabel('log temps de sortie');\n",
    "pyplot.grid();\n",
    "pyplot.show()"
   ]
  },
  {
   "cell_type": "markdown",
   "metadata": {},
   "source": [
    "Nous remarquons que le système perd toute fluidité et se fige au point de transition ($n=0.6\\,n_{max}$) observé avec le graphique $p(n)$. Cela correspond à nos attentes et fourni une deuxième confirmation du point de transition. "
   ]
  }
 ],
 "metadata": {
  "kernelspec": {
   "display_name": "Python 3",
   "language": "python",
   "name": "python3"
  },
  "language_info": {
   "codemirror_mode": {
    "name": "ipython",
    "version": 3
   },
   "file_extension": ".py",
   "mimetype": "text/x-python",
   "name": "python",
   "nbconvert_exporter": "python",
   "pygments_lexer": "ipython3",
   "version": "3.6.2"
  }
 },
 "nbformat": 4,
 "nbformat_minor": 2
}
